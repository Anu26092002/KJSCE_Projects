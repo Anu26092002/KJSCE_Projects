{
  "nbformat": 4,
  "nbformat_minor": 0,
  "metadata": {
    "colab": {
      "name": "EDA_Lab2.ipynb",
      "provenance": []
    },
    "kernelspec": {
      "name": "python3",
      "display_name": "Python 3"
    },
    "language_info": {
      "name": "python"
    }
  },
  "cells": [
    {
      "cell_type": "markdown",
      "source": [
        "<div align=\"center\" style = \"font-family : Times New Roman; font-size : 20px\"><B>K. J. Somaiya College of Engineering, Mumbai-77</B></div>\n",
        "<div align=\"center\" style = \"font-family : Time NewRoman; font-size : 15px\">(Autonomous College Affiliated to University of Mumbai)</div>"
      ],
      "metadata": {
        "id": "POV0j2q-SrrL"
      }
    },
    {
      "cell_type": "markdown",
      "source": [
        "<div align=\"center\" style = \"font-family : Time New Roman; font-size :20px\"><B>Expolatory Data Analysis</B></div>"
      ],
      "metadata": {
        "id": "56xNedmcTWiu"
      }
    },
    {
      "cell_type": "markdown",
      "source": [
        "<div align=\"center\"><B>Name : Anurag Pulak Ghosh &nbsp;&nbsp;&nbsp;&nbsp; Roll No.: 1914019 &nbsp;&nbsp;&nbsp;&nbsp; Branch : Information Technology &nbsp;&nbsp;&nbsp;&nbsp; Class : A &nbsp; &nbsp;&nbsp;&nbsp; Batch : A2</B></div>"
      ],
      "metadata": {
        "id": "6jal64UCTlMU"
      }
    },
    {
      "cell_type": "markdown",
      "source": [
        "<h1 align=\"center\">Experiment No.-2 : Measuring Central Tendency and variability of the Data</h1>"
      ],
      "metadata": {
        "id": "Dc0TpWOgxJXV"
      }
    },
    {
      "cell_type": "markdown",
      "source": [
        "1.\tWrite a programming code with a procedure to compute mean mode and median of sample data without using readymade function?"
      ],
      "metadata": {
        "id": "Ox9kUMrrVJ4n"
      }
    },
    {
      "cell_type": "code",
      "source": [
        "#Importing the math library and taking the input of the data\n",
        "import math\n",
        "\n",
        "#Prompting the user for the data input\n",
        "n = int(input(\"Enter number of elements : \"))\n",
        "n_num = list(map(int,input(\"\\nEnter the numbers : \").strip().split()))[:n]\n"
      ],
      "metadata": {
        "colab": {
          "base_uri": "https://localhost:8080/"
        },
        "id": "Vu8DpMi7xKH-",
        "outputId": "da73c415-c5c3-4a4a-a9f6-723eeace7966"
      },
      "execution_count": null,
      "outputs": [
        {
          "name": "stdout",
          "output_type": "stream",
          "text": [
            "Enter number of elements : 9\n",
            "\n",
            "Enter the numbers : 63 64 64 70 72 70 77 87 81\n"
          ]
        }
      ]
    },
    {
      "cell_type": "code",
      "source": [
        "#Calculating the mean\n",
        "get_sum = sum(n_num)\n",
        "mean = get_sum / n\n",
        "  \n",
        "print(\"Mean / Average : \" + str(mean))"
      ],
      "metadata": {
        "colab": {
          "base_uri": "https://localhost:8080/"
        },
        "id": "hyrZpy48ywBu",
        "outputId": "b83ee106-3519-45c2-92bf-6ae2951addf9"
      },
      "execution_count": null,
      "outputs": [
        {
          "output_type": "stream",
          "name": "stdout",
          "text": [
            "Mean / Average is: 72.0\n"
          ]
        }
      ]
    },
    {
      "cell_type": "code",
      "source": [
        "\n",
        "n_num.sort()\n",
        "if n % 2 == 0:\n",
        "  median1 = n_num[n//2]\n",
        "  median2 = n_num[n//2 - 1]\n",
        "  median = (median1 + median2)/2\n",
        "else:\n",
        "  median = n_num[n//2]\n",
        "\n",
        "\n",
        "print(\"Median : \" + median)"
      ],
      "metadata": {
        "colab": {
          "base_uri": "https://localhost:8080/"
        },
        "id": "55Ev8_4cyxbe",
        "outputId": "bd306b51-3383-4ec2-89e2-5229bbd4871d"
      },
      "execution_count": null,
      "outputs": [
        {
          "output_type": "stream",
          "name": "stdout",
          "text": [
            "70\n"
          ]
        }
      ]
    },
    {
      "cell_type": "code",
      "source": [
        "#Calculating the mode\n",
        "L1=[]\n",
        "  \n",
        "i = 0\n",
        "while i < len(n_num) :\n",
        "    L1.append(n_num.count(n_num[i]))\n",
        "    i += 1\n",
        "  \n",
        "d1 = dict(zip(n_num, L1))\n",
        "  \n",
        "d2={k for (k,v) in d1.items() if v == max(L1) }\n",
        "  \n",
        "print(\"Mode : \" + str(d2))"
      ],
      "metadata": {
        "colab": {
          "base_uri": "https://localhost:8080/"
        },
        "id": "Iex94vMry5jt",
        "outputId": "d6c64614-9bc7-4239-92e7-c3ec4d3b3e3b"
      },
      "execution_count": null,
      "outputs": [
        {
          "output_type": "stream",
          "name": "stdout",
          "text": [
            "Mode :{64, 70}\n"
          ]
        }
      ]
    },
    {
      "cell_type": "code",
      "source": [
        "print(\"For the given Data : \"+str(n_num))\n",
        "print(\"Mean : \"+str(mean)+\"\\nMedian : \"+str(median)+\"\\nMode : \"+str(d2))"
      ],
      "metadata": {
        "colab": {
          "base_uri": "https://localhost:8080/"
        },
        "id": "XE26we6mWAw_",
        "outputId": "061f36f3-44d3-4500-d4ba-5978e931845c"
      },
      "execution_count": null,
      "outputs": [
        {
          "output_type": "stream",
          "name": "stdout",
          "text": [
            "For the given Data : [63, 64, 64, 70, 70, 72, 77, 81, 87]\n",
            "Mean : 72.0\n",
            "Median : 70\n",
            "Mode : {64, 70}\n"
          ]
        }
      ]
    },
    {
      "cell_type": "markdown",
      "source": [
        "2.\tWrite a programming code with a procedure to find out mean, standard deviation, mean deviation, coefficient of variation and standard error on sample data of your choice?"
      ],
      "metadata": {
        "id": "ouegWjtj3dIf"
      }
    },
    {
      "cell_type": "code",
      "source": [
        "diff1 = []\n",
        "for i in n_num:\n",
        "  diff1.append(abs(i-mean))\n",
        "\n",
        "meanDeviation = sum(diff1)/n\n",
        "print(\"Mean Deviation : \"+meanDeviation)"
      ],
      "metadata": {
        "colab": {
          "base_uri": "https://localhost:8080/"
        },
        "id": "EDgm2JqY4Zad",
        "outputId": "773991e1-5651-4e12-e75c-bb64af91de10"
      },
      "execution_count": null,
      "outputs": [
        {
          "output_type": "stream",
          "name": "stdout",
          "text": [
            "6.444444444444445\n"
          ]
        }
      ]
    },
    {
      "cell_type": "code",
      "source": [
        "diff2 = []\n",
        "for i in n_num:\n",
        "  diff2.append(pow((i-mean),2))\n",
        "\n",
        "variance = sum(diff2)/n\n",
        "print(\"Variance : \"+variance)"
      ],
      "metadata": {
        "colab": {
          "base_uri": "https://localhost:8080/"
        },
        "id": "4ne7C45KIfd8",
        "outputId": "a9904370-9e78-4b86-d466-0973e1df8da3"
      },
      "execution_count": null,
      "outputs": [
        {
          "output_type": "stream",
          "name": "stdout",
          "text": [
            "60.888888888888886\n"
          ]
        }
      ]
    },
    {
      "cell_type": "code",
      "source": [
        "sd = math.sqrt(variance)\n",
        "print(\"Standard Deviation : \"+sd)"
      ],
      "metadata": {
        "colab": {
          "base_uri": "https://localhost:8080/"
        },
        "id": "bgi9CRymMmlA",
        "outputId": "4ae089e4-56f5-44b9-ca2b-1a65f14e0fbf"
      },
      "execution_count": null,
      "outputs": [
        {
          "output_type": "stream",
          "name": "stdout",
          "text": [
            "7.803133273813083\n"
          ]
        }
      ]
    },
    {
      "cell_type": "code",
      "source": [
        "coefficentOfVariation = sd/mean\n",
        "print(\"Co-efficient of Variance : \"+coefficentOfVariation)"
      ],
      "metadata": {
        "colab": {
          "base_uri": "https://localhost:8080/"
        },
        "id": "GpfNlMB9MsEw",
        "outputId": "a07866aa-cd91-47bf-a300-3ad14525e760"
      },
      "execution_count": null,
      "outputs": [
        {
          "output_type": "stream",
          "name": "stdout",
          "text": [
            "0.10837685102518171\n"
          ]
        }
      ]
    },
    {
      "cell_type": "code",
      "source": [
        "se = sd/(math.sqrt(n))\n",
        "print(\"Standard Error : \"+sd)"
      ],
      "metadata": {
        "colab": {
          "base_uri": "https://localhost:8080/"
        },
        "id": "QxVoeGoqRd5R",
        "outputId": "5ced258b-00ad-4108-891a-c447e90cfca3"
      },
      "execution_count": null,
      "outputs": [
        {
          "output_type": "stream",
          "name": "stdout",
          "text": [
            "2.601044424604361\n"
          ]
        }
      ]
    },
    {
      "cell_type": "code",
      "source": [
        "print(\"For the given Data : \"+str(n_num))\n",
        "print(\"Mean : \"+str(mean)+\"\\nMean Deviation : \"+str(meanDeviation)+\"\\nStandard Deviation : \"+str(sd))\n",
        "print(\"Co-efficient of Variance : \"+str(coefficentOfVariation)+\"\\nStandard Error : \"+str(sd))"
      ],
      "metadata": {
        "colab": {
          "base_uri": "https://localhost:8080/"
        },
        "id": "MN5WOeqAW6g-",
        "outputId": "5742d357-6e78-4aa8-e524-28671ed327d8"
      },
      "execution_count": null,
      "outputs": [
        {
          "output_type": "stream",
          "name": "stdout",
          "text": [
            "For the given Data : [63, 64, 64, 70, 70, 72, 77, 81, 87]\n",
            "Mean : 72.0\n",
            "Mean Deviation : 6.444444444444445\n",
            "Standard Deviation : 7.803133273813083\n",
            "Co-efficient of Variance : 0.10837685102518171\n",
            "Standard Error : 7.803133273813083\n"
          ]
        }
      ]
    }
  ]
}